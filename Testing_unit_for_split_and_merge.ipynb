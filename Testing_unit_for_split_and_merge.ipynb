{
 "cells": [
  {
   "cell_type": "code",
   "execution_count": 2,
   "id": "ff77dff5",
   "metadata": {},
   "outputs": [],
   "source": [
    "import numpy as np\n",
    "import pandas as pd\n",
    "from tkinter import Tk, filedialog\n",
    "from scipy.io import loadmat\n",
    "\n",
    "def load_data_file(prompt):\n",
    "    \"\"\"Load .npz or .mat file and return standardized lists of arrays.\"\"\"\n",
    "    file_path = filedialog.askopenfilename(filetypes=[(\"Data files\", \"*.npz *.mat\")], title=prompt)\n",
    "    if not file_path:\n",
    "        raise ValueError(\"❌ No file selected.\")\n",
    "\n",
    "    if file_path.endswith(\".npz\"):\n",
    "        data = np.load(file_path, allow_pickle=True)\n",
    "        if 'Final_Loc_Blinking_Corrected' in data:\n",
    "            locs = data['Final_Loc_Blinking_Corrected']\n",
    "        elif 'LocalizationsFinal' in data:\n",
    "            locs = data['LocalizationsFinal']\n",
    "        else:\n",
    "            raise KeyError(\"❌ No localization data found in .npz file.\")\n",
    "\n",
    "        if 'Final_Frame_Blinking_Corrected' in data:\n",
    "            frames = data['Final_Frame_Blinking_Corrected']\n",
    "        elif 'Frame_Information' in data:\n",
    "            frames = data['Frame_Information']\n",
    "        else:\n",
    "            raise KeyError(\"❌ No frame data found in .npz file.\")\n",
    "\n",
    "    elif file_path.endswith(\".mat\"):\n",
    "        data = loadmat(file_path, simplify_cells=True)\n",
    "        if 'Final_Loc_Blinking_Corrected' in data:\n",
    "            locs = data['Final_Loc_Blinking_Corrected']\n",
    "        elif 'LocalizationsFinal' in data:\n",
    "            locs = data['LocalizationsFinal']\n",
    "        else:\n",
    "            raise KeyError(\"❌ No localization data found in .mat file.\")\n",
    "\n",
    "        if 'Final_Frame_Blinking_Corrected' in data:\n",
    "            frames = data['Final_Frame_Blinking_Corrected']\n",
    "        elif 'Frame_Information' in data:\n",
    "            frames = data['Frame_Information']\n",
    "        else:\n",
    "            raise KeyError(\"❌ No frame data found in .mat file.\")\n",
    "    else:\n",
    "        raise ValueError(\"❌ Unsupported file type.\")\n",
    "\n",
    "    # Standardize to list of arrays\n",
    "    if isinstance(locs, np.ndarray) and locs.ndim == 2:\n",
    "        locs = [locs]\n",
    "    if isinstance(frames, np.ndarray) and frames.ndim in [1, 2]:\n",
    "        frames = [frames]\n",
    "\n",
    "    return locs, frames, file_path\n",
    "\n",
    "def flatten_localizations(locs, frames):\n",
    "    \"\"\"Flatten localization and frame data to a single DataFrame for comparison.\"\"\"\n",
    "    flat = []\n",
    "    for loc_arr, frame_arr in zip(locs, frames):\n",
    "        if len(loc_arr) == 0:\n",
    "            continue\n",
    "        temp = pd.DataFrame(loc_arr[:, :2], columns=['X', 'Y'])\n",
    "        temp['Frame'] = frame_arr\n",
    "        flat.append(temp)\n",
    "    return pd.concat(flat, ignore_index=True).sort_values(['X', 'Y', 'Frame']).reset_index(drop=True)\n",
    "\n",
    "def compare_localization_sets():\n",
    "    print(\"📂 Select recombined file (after merging)...\")\n",
    "    final_locs, final_frames, final_path = load_data_file(\"Select recombined .npz or .mat file\")\n",
    "    \n",
    "    print(\"📂 Select original file (before splitting)...\")\n",
    "    orig_locs, orig_frames, orig_path = load_data_file(\"Select original .npz or .mat file\")\n",
    "\n",
    "    df_final = flatten_localizations(final_locs, final_frames)\n",
    "    df_orig = flatten_localizations(orig_locs, orig_frames)\n",
    "\n",
    "    if df_final.shape != df_orig.shape:\n",
    "        print(\"❌ Shape mismatch!\")\n",
    "        print(f\"Original shape: {df_orig.shape}, Final shape: {df_final.shape}\")\n",
    "        return\n",
    "\n",
    "    diffs = df_final - df_orig\n",
    "    tolerance = 1e-5\n",
    "    max_diff = diffs.abs().max()\n",
    "\n",
    "    if (max_diff < tolerance).all():\n",
    "        print(\"✅ PASS: No significant difference in localizations or frames.\")\n",
    "    else:\n",
    "        print(\"⚠️ WARNING: Differences detected!\")\n",
    "        print(diffs.describe())\n",
    "        print(\"Max difference:\")\n",
    "        print(max_diff)\n"
   ]
  },
  {
   "cell_type": "code",
   "execution_count": 8,
   "id": "1d151964",
   "metadata": {},
   "outputs": [
    {
     "name": "stdout",
     "output_type": "stream",
     "text": [
      "📂 Select recombined file (after merging)...\n",
      "📂 Select original file (before splitting)...\n",
      "✅ PASS: No significant difference in localizations or frames.\n"
     ]
    }
   ],
   "source": [
    "compare_localization_sets()"
   ]
  },
  {
   "cell_type": "code",
   "execution_count": 5,
   "id": "0218e225",
   "metadata": {},
   "outputs": [
    {
     "name": "stdout",
     "output_type": "stream",
     "text": [
      "📂 Select recombined file (after merging)...\n",
      "📂 Select original file (before splitting)...\n",
      "✅ PASS: No significant difference in localizations or frames.\n"
     ]
    }
   ],
   "source": [
    "print(\"📂 Select recombined file (after merging)...\")\n",
    "final_locs, final_frames, final_path = load_data_file(\"Select recombined .npz or .mat file\")\n",
    "\n",
    "print(\"📂 Select original file (before splitting)...\")\n",
    "orig_locs, orig_frames, orig_path = load_data_file(\"Select original .npz or .mat file\")\n",
    "\n",
    "df_final = flatten_localizations(final_locs, final_frames)\n",
    "df_orig = flatten_localizations(orig_locs, orig_frames)\n",
    "\n",
    "if df_final.shape != df_orig.shape:\n",
    "    print(\"❌ Shape mismatch!\")\n",
    "    print(f\"Original shape: {df_orig.shape}, Final shape: {df_final.shape}\")\n",
    "\n",
    "diffs = df_final - df_orig\n",
    "tolerance = 1e-5\n",
    "max_diff = diffs.abs().max()\n",
    "\n",
    "if (max_diff < tolerance).all():\n",
    "    print(\"✅ PASS: No significant difference in localizations or frames.\")\n",
    "else:\n",
    "    print(\"⚠️ WARNING: Differences detected!\")\n",
    "    print(diffs.describe())\n",
    "    print(\"Max difference:\")\n",
    "    print(max_diff)\n"
   ]
  }
 ],
 "metadata": {
  "kernelspec": {
   "display_name": "Python 3",
   "language": "python",
   "name": "python3"
  },
  "language_info": {
   "codemirror_mode": {
    "name": "ipython",
    "version": 3
   },
   "file_extension": ".py",
   "mimetype": "text/x-python",
   "name": "python",
   "nbconvert_exporter": "python",
   "pygments_lexer": "ipython3",
   "version": "3.12.10"
  }
 },
 "nbformat": 4,
 "nbformat_minor": 5
}
